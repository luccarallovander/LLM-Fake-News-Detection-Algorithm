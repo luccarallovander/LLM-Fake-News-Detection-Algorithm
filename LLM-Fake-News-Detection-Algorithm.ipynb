{
 "cells": [
  {
   "cell_type": "markdown",
   "id": "e29ee8f0",
   "metadata": {},
   "source": [
    "# LLM-Fake-News-Detection-Algorithm\n",
    "\n",
    "author: Lucca Rallo Vanderchmitt\n",
    "\n",
    "Python Environment used: Python 3.12.1\n"
   ]
  },
  {
   "cell_type": "markdown",
   "id": "583f2f59",
   "metadata": {},
   "source": [
    "# Step 1 - Baseline Classification\n",
    "\n",
    "This section will fit a logistic regression model with standard pre-processing used in quantitatve text analysis and a simple feature selection plan that weights articles by top TF-IDF scores.\n",
    "\n",
    "Step 2 will explore more advanced techniques, using Large Language Models."
   ]
  },
  {
   "cell_type": "code",
   "execution_count": 2,
   "id": "ee2eebcf",
   "metadata": {},
   "outputs": [
    {
     "name": "stderr",
     "output_type": "stream",
     "text": [
      "c:\\Users\\Lucca\\AppData\\Local\\Programs\\Python\\Python312\\Lib\\site-packages\\tqdm\\auto.py:21: TqdmWarning: IProgress not found. Please update jupyter and ipywidgets. See https://ipywidgets.readthedocs.io/en/stable/user_install.html\n",
      "  from .autonotebook import tqdm as notebook_tqdm\n"
     ]
    }
   ],
   "source": [
    "# importing libraries used in this project:\n",
    "\n",
    "import pandas as pd\n",
    "import os\n",
    "import string\n",
    "import nltk\n",
    "from nltk.corpus import stopwords\n",
    "from sklearn.feature_extraction.text import TfidfVectorizer\n",
    "from sklearn.preprocessing import LabelEncoder\n",
    "from sklearn.model_selection import train_test_split\n",
    "from sklearn.linear_model import LogisticRegression\n",
    "from sklearn.metrics import accuracy_score, classification_report, confusion_matrix\n",
    "from sklearn.model_selection import train_test_split\n",
    "from sklearn.linear_model import LogisticRegression\n",
    "from sklearn.metrics import accuracy_score, classification_report, confusion_matrix\n",
    "import matplotlib.pyplot as plt\n",
    "import seaborn as sns\n",
    "import shap\n",
    "\n"
   ]
  },
  {
   "cell_type": "code",
   "execution_count": null,
   "id": "78e56a7e",
   "metadata": {},
   "outputs": [],
   "source": [
    "# Directory Management\n",
    "\n",
    "# Define the directory and filenames\n",
    "data_dir = # insert file path i.e. (r'C:\\Users\\Lucca\\folder\\datafolder')\n",
    "true_path = os.path.join(data_dir, 'True.csv')\n",
    "fake_path = os.path.join(data_dir, 'Fake.csv')\n"
   ]
  },
  {
   "cell_type": "code",
   "execution_count": 4,
   "id": "dd2fad0c",
   "metadata": {},
   "outputs": [
    {
     "name": "stdout",
     "output_type": "stream",
     "text": [
      "TRUE dataset:\n",
      "<class 'pandas.core.frame.DataFrame'>\n",
      "RangeIndex: 21417 entries, 0 to 21416\n",
      "Data columns (total 4 columns):\n",
      " #   Column   Non-Null Count  Dtype \n",
      "---  ------   --------------  ----- \n",
      " 0   title    21417 non-null  object\n",
      " 1   text     21417 non-null  object\n",
      " 2   subject  21417 non-null  object\n",
      " 3   date     21417 non-null  object\n",
      "dtypes: object(4)\n",
      "memory usage: 669.4+ KB\n",
      "None\n",
      "                                               title  \\\n",
      "0  As U.S. budget fight looms, Republicans flip t...   \n",
      "1  U.S. military to accept transgender recruits o...   \n",
      "2  Senior U.S. Republican senator: 'Let Mr. Muell...   \n",
      "3  FBI Russia probe helped by Australian diplomat...   \n",
      "4  Trump wants Postal Service to charge 'much mor...   \n",
      "\n",
      "                                                text       subject  \\\n",
      "0  WASHINGTON (Reuters) - The head of a conservat...  politicsNews   \n",
      "1  WASHINGTON (Reuters) - Transgender people will...  politicsNews   \n",
      "2  WASHINGTON (Reuters) - The special counsel inv...  politicsNews   \n",
      "3  WASHINGTON (Reuters) - Trump campaign adviser ...  politicsNews   \n",
      "4  SEATTLE/WASHINGTON (Reuters) - President Donal...  politicsNews   \n",
      "\n",
      "                 date  \n",
      "0  December 31, 2017   \n",
      "1  December 29, 2017   \n",
      "2  December 31, 2017   \n",
      "3  December 30, 2017   \n",
      "4  December 29, 2017   \n",
      "\n",
      "FAKE dataset:\n",
      "<class 'pandas.core.frame.DataFrame'>\n",
      "RangeIndex: 23481 entries, 0 to 23480\n",
      "Data columns (total 4 columns):\n",
      " #   Column   Non-Null Count  Dtype \n",
      "---  ------   --------------  ----- \n",
      " 0   title    23481 non-null  object\n",
      " 1   text     23481 non-null  object\n",
      " 2   subject  23481 non-null  object\n",
      " 3   date     23481 non-null  object\n",
      "dtypes: object(4)\n",
      "memory usage: 733.9+ KB\n",
      "None\n",
      "                                               title  \\\n",
      "0   Donald Trump Sends Out Embarrassing New Year’...   \n",
      "1   Drunk Bragging Trump Staffer Started Russian ...   \n",
      "2   Sheriff David Clarke Becomes An Internet Joke...   \n",
      "3   Trump Is So Obsessed He Even Has Obama’s Name...   \n",
      "4   Pope Francis Just Called Out Donald Trump Dur...   \n",
      "\n",
      "                                                text subject  \\\n",
      "0  Donald Trump just couldn t wish all Americans ...    News   \n",
      "1  House Intelligence Committee Chairman Devin Nu...    News   \n",
      "2  On Friday, it was revealed that former Milwauk...    News   \n",
      "3  On Christmas day, Donald Trump announced that ...    News   \n",
      "4  Pope Francis used his annual Christmas Day mes...    News   \n",
      "\n",
      "                date  \n",
      "0  December 31, 2017  \n",
      "1  December 31, 2017  \n",
      "2  December 30, 2017  \n",
      "3  December 29, 2017  \n",
      "4  December 25, 2017  \n"
     ]
    }
   ],
   "source": [
    "\n",
    "# Load the datasets\n",
    "df_true = pd.read_csv(true_path)\n",
    "df_fake = pd.read_csv(fake_path)\n",
    "\n",
    "# Display basic info\n",
    "print(\"TRUE dataset:\")\n",
    "print(df_true.info())\n",
    "print(df_true.head())\n",
    "\n",
    "print(\"\\nFAKE dataset:\")\n",
    "print(df_fake.info())\n",
    "print(df_fake.head())"
   ]
  },
  {
   "cell_type": "code",
   "execution_count": 5,
   "id": "d8e12196",
   "metadata": {},
   "outputs": [
    {
     "data": {
      "text/html": [
       "<div>\n",
       "<style scoped>\n",
       "    .dataframe tbody tr th:only-of-type {\n",
       "        vertical-align: middle;\n",
       "    }\n",
       "\n",
       "    .dataframe tbody tr th {\n",
       "        vertical-align: top;\n",
       "    }\n",
       "\n",
       "    .dataframe thead th {\n",
       "        text-align: right;\n",
       "    }\n",
       "</style>\n",
       "<table border=\"1\" class=\"dataframe\">\n",
       "  <thead>\n",
       "    <tr style=\"text-align: right;\">\n",
       "      <th></th>\n",
       "      <th>title</th>\n",
       "      <th>text</th>\n",
       "      <th>subject</th>\n",
       "      <th>date</th>\n",
       "    </tr>\n",
       "  </thead>\n",
       "  <tbody>\n",
       "    <tr>\n",
       "      <th>0</th>\n",
       "      <td>As U.S. budget fight looms, Republicans flip t...</td>\n",
       "      <td>WASHINGTON (Reuters) - The head of a conservat...</td>\n",
       "      <td>politicsNews</td>\n",
       "      <td>December 31, 2017</td>\n",
       "    </tr>\n",
       "    <tr>\n",
       "      <th>1</th>\n",
       "      <td>U.S. military to accept transgender recruits o...</td>\n",
       "      <td>WASHINGTON (Reuters) - Transgender people will...</td>\n",
       "      <td>politicsNews</td>\n",
       "      <td>December 29, 2017</td>\n",
       "    </tr>\n",
       "    <tr>\n",
       "      <th>2</th>\n",
       "      <td>Senior U.S. Republican senator: 'Let Mr. Muell...</td>\n",
       "      <td>WASHINGTON (Reuters) - The special counsel inv...</td>\n",
       "      <td>politicsNews</td>\n",
       "      <td>December 31, 2017</td>\n",
       "    </tr>\n",
       "    <tr>\n",
       "      <th>3</th>\n",
       "      <td>FBI Russia probe helped by Australian diplomat...</td>\n",
       "      <td>WASHINGTON (Reuters) - Trump campaign adviser ...</td>\n",
       "      <td>politicsNews</td>\n",
       "      <td>December 30, 2017</td>\n",
       "    </tr>\n",
       "    <tr>\n",
       "      <th>4</th>\n",
       "      <td>Trump wants Postal Service to charge 'much mor...</td>\n",
       "      <td>SEATTLE/WASHINGTON (Reuters) - President Donal...</td>\n",
       "      <td>politicsNews</td>\n",
       "      <td>December 29, 2017</td>\n",
       "    </tr>\n",
       "  </tbody>\n",
       "</table>\n",
       "</div>"
      ],
      "text/plain": [
       "                                               title  \\\n",
       "0  As U.S. budget fight looms, Republicans flip t...   \n",
       "1  U.S. military to accept transgender recruits o...   \n",
       "2  Senior U.S. Republican senator: 'Let Mr. Muell...   \n",
       "3  FBI Russia probe helped by Australian diplomat...   \n",
       "4  Trump wants Postal Service to charge 'much mor...   \n",
       "\n",
       "                                                text       subject  \\\n",
       "0  WASHINGTON (Reuters) - The head of a conservat...  politicsNews   \n",
       "1  WASHINGTON (Reuters) - Transgender people will...  politicsNews   \n",
       "2  WASHINGTON (Reuters) - The special counsel inv...  politicsNews   \n",
       "3  WASHINGTON (Reuters) - Trump campaign adviser ...  politicsNews   \n",
       "4  SEATTLE/WASHINGTON (Reuters) - President Donal...  politicsNews   \n",
       "\n",
       "                 date  \n",
       "0  December 31, 2017   \n",
       "1  December 29, 2017   \n",
       "2  December 31, 2017   \n",
       "3  December 30, 2017   \n",
       "4  December 29, 2017   "
      ]
     },
     "execution_count": 5,
     "metadata": {},
     "output_type": "execute_result"
    }
   ],
   "source": [
    "df_true.head()"
   ]
  },
  {
   "cell_type": "code",
   "execution_count": 6,
   "id": "049cadb7",
   "metadata": {},
   "outputs": [
    {
     "data": {
      "text/html": [
       "<div>\n",
       "<style scoped>\n",
       "    .dataframe tbody tr th:only-of-type {\n",
       "        vertical-align: middle;\n",
       "    }\n",
       "\n",
       "    .dataframe tbody tr th {\n",
       "        vertical-align: top;\n",
       "    }\n",
       "\n",
       "    .dataframe thead th {\n",
       "        text-align: right;\n",
       "    }\n",
       "</style>\n",
       "<table border=\"1\" class=\"dataframe\">\n",
       "  <thead>\n",
       "    <tr style=\"text-align: right;\">\n",
       "      <th></th>\n",
       "      <th>title</th>\n",
       "      <th>text</th>\n",
       "      <th>subject</th>\n",
       "      <th>date</th>\n",
       "    </tr>\n",
       "  </thead>\n",
       "  <tbody>\n",
       "    <tr>\n",
       "      <th>0</th>\n",
       "      <td>Donald Trump Sends Out Embarrassing New Year’...</td>\n",
       "      <td>Donald Trump just couldn t wish all Americans ...</td>\n",
       "      <td>News</td>\n",
       "      <td>December 31, 2017</td>\n",
       "    </tr>\n",
       "    <tr>\n",
       "      <th>1</th>\n",
       "      <td>Drunk Bragging Trump Staffer Started Russian ...</td>\n",
       "      <td>House Intelligence Committee Chairman Devin Nu...</td>\n",
       "      <td>News</td>\n",
       "      <td>December 31, 2017</td>\n",
       "    </tr>\n",
       "    <tr>\n",
       "      <th>2</th>\n",
       "      <td>Sheriff David Clarke Becomes An Internet Joke...</td>\n",
       "      <td>On Friday, it was revealed that former Milwauk...</td>\n",
       "      <td>News</td>\n",
       "      <td>December 30, 2017</td>\n",
       "    </tr>\n",
       "    <tr>\n",
       "      <th>3</th>\n",
       "      <td>Trump Is So Obsessed He Even Has Obama’s Name...</td>\n",
       "      <td>On Christmas day, Donald Trump announced that ...</td>\n",
       "      <td>News</td>\n",
       "      <td>December 29, 2017</td>\n",
       "    </tr>\n",
       "    <tr>\n",
       "      <th>4</th>\n",
       "      <td>Pope Francis Just Called Out Donald Trump Dur...</td>\n",
       "      <td>Pope Francis used his annual Christmas Day mes...</td>\n",
       "      <td>News</td>\n",
       "      <td>December 25, 2017</td>\n",
       "    </tr>\n",
       "  </tbody>\n",
       "</table>\n",
       "</div>"
      ],
      "text/plain": [
       "                                               title  \\\n",
       "0   Donald Trump Sends Out Embarrassing New Year’...   \n",
       "1   Drunk Bragging Trump Staffer Started Russian ...   \n",
       "2   Sheriff David Clarke Becomes An Internet Joke...   \n",
       "3   Trump Is So Obsessed He Even Has Obama’s Name...   \n",
       "4   Pope Francis Just Called Out Donald Trump Dur...   \n",
       "\n",
       "                                                text subject  \\\n",
       "0  Donald Trump just couldn t wish all Americans ...    News   \n",
       "1  House Intelligence Committee Chairman Devin Nu...    News   \n",
       "2  On Friday, it was revealed that former Milwauk...    News   \n",
       "3  On Christmas day, Donald Trump announced that ...    News   \n",
       "4  Pope Francis used his annual Christmas Day mes...    News   \n",
       "\n",
       "                date  \n",
       "0  December 31, 2017  \n",
       "1  December 31, 2017  \n",
       "2  December 30, 2017  \n",
       "3  December 29, 2017  \n",
       "4  December 25, 2017  "
      ]
     },
     "execution_count": 6,
     "metadata": {},
     "output_type": "execute_result"
    }
   ],
   "source": [
    "df_fake.head()"
   ]
  },
  {
   "cell_type": "code",
   "execution_count": 7,
   "id": "a179cac6",
   "metadata": {},
   "outputs": [
    {
     "name": "stdout",
     "output_type": "stream",
     "text": [
      "Dimensions of TRUE dataset: (21417, 4)\n",
      "Dimensions of FAKE dataset: (23481, 4)\n",
      "\n",
      "Unique subjects in TRUE dataset: ['politicsNews' 'worldnews']\n",
      "Unique subjects in FAKE dataset: ['News' 'politics' 'Government News' 'left-news' 'US_News' 'Middle-east']\n"
     ]
    }
   ],
   "source": [
    "# Check dimensions\n",
    "print(\"Dimensions of TRUE dataset:\", df_true.shape)\n",
    "print(\"Dimensions of FAKE dataset:\", df_fake.shape)\n",
    "\n",
    "# Check unique values in 'subject' column\n",
    "print(\"\\nUnique subjects in TRUE dataset:\", df_true['subject'].unique())\n",
    "print(\"Unique subjects in FAKE dataset:\", df_fake['subject'].unique())"
   ]
  },
  {
   "cell_type": "code",
   "execution_count": 8,
   "id": "8a287f5d",
   "metadata": {},
   "outputs": [
    {
     "name": "stdout",
     "output_type": "stream",
     "text": [
      "                                               title  \\\n",
      "0   BREAKING: GOP Chairman Grassley Has Had Enoug...   \n",
      "1   Failed GOP Candidates Remembered In Hilarious...   \n",
      "2   Mike Pence’s New DC Neighbors Are HILARIOUSLY...   \n",
      "3  California AG pledges to defend birth control ...   \n",
      "4  AZ RANCHERS Living On US-Mexico Border Destroy...   \n",
      "\n",
      "                                                text       subject  \\\n",
      "0  Donald Trump s White House is in chaos, and th...          News   \n",
      "1  Now that Donald Trump is the presumptive GOP n...          News   \n",
      "2  Mike Pence is a huge homophobe. He supports ex...          News   \n",
      "3  SAN FRANCISCO (Reuters) - California Attorney ...  politicsNews   \n",
      "4  Twisted reasoning is all that comes from Pelos...      politics   \n",
      "\n",
      "               date  label  \n",
      "0     July 21, 2017      0  \n",
      "1       May 7, 2016      0  \n",
      "2  December 3, 2016      0  \n",
      "3  October 6, 2017       1  \n",
      "4      Apr 25, 2017      0  \n"
     ]
    }
   ],
   "source": [
    "# Add a label to each dataset: 1 for real, 0 for fake\n",
    "df_true['label'] = 1\n",
    "df_fake['label'] = 0\n",
    "\n",
    "# Combine the datasets\n",
    "df = pd.concat([df_true, df_fake], axis=0).reset_index(drop=True)\n",
    "\n",
    "# Shuffle the dataset\n",
    "df = df.sample(frac=1, random_state=42).reset_index(drop=True)\n",
    "\n",
    "# Peek at the data\n",
    "print(df.head())"
   ]
  },
  {
   "cell_type": "code",
   "execution_count": 9,
   "id": "efe33e73",
   "metadata": {},
   "outputs": [
    {
     "data": {
      "text/html": [
       "<div>\n",
       "<style scoped>\n",
       "    .dataframe tbody tr th:only-of-type {\n",
       "        vertical-align: middle;\n",
       "    }\n",
       "\n",
       "    .dataframe tbody tr th {\n",
       "        vertical-align: top;\n",
       "    }\n",
       "\n",
       "    .dataframe thead th {\n",
       "        text-align: right;\n",
       "    }\n",
       "</style>\n",
       "<table border=\"1\" class=\"dataframe\">\n",
       "  <thead>\n",
       "    <tr style=\"text-align: right;\">\n",
       "      <th></th>\n",
       "      <th>title</th>\n",
       "      <th>text</th>\n",
       "      <th>subject</th>\n",
       "      <th>date</th>\n",
       "      <th>label</th>\n",
       "    </tr>\n",
       "  </thead>\n",
       "  <tbody>\n",
       "    <tr>\n",
       "      <th>0</th>\n",
       "      <td>BREAKING: GOP Chairman Grassley Has Had Enoug...</td>\n",
       "      <td>Donald Trump s White House is in chaos, and th...</td>\n",
       "      <td>News</td>\n",
       "      <td>July 21, 2017</td>\n",
       "      <td>0</td>\n",
       "    </tr>\n",
       "    <tr>\n",
       "      <th>1</th>\n",
       "      <td>Failed GOP Candidates Remembered In Hilarious...</td>\n",
       "      <td>Now that Donald Trump is the presumptive GOP n...</td>\n",
       "      <td>News</td>\n",
       "      <td>May 7, 2016</td>\n",
       "      <td>0</td>\n",
       "    </tr>\n",
       "    <tr>\n",
       "      <th>2</th>\n",
       "      <td>Mike Pence’s New DC Neighbors Are HILARIOUSLY...</td>\n",
       "      <td>Mike Pence is a huge homophobe. He supports ex...</td>\n",
       "      <td>News</td>\n",
       "      <td>December 3, 2016</td>\n",
       "      <td>0</td>\n",
       "    </tr>\n",
       "    <tr>\n",
       "      <th>3</th>\n",
       "      <td>California AG pledges to defend birth control ...</td>\n",
       "      <td>SAN FRANCISCO (Reuters) - California Attorney ...</td>\n",
       "      <td>politicsNews</td>\n",
       "      <td>October 6, 2017</td>\n",
       "      <td>1</td>\n",
       "    </tr>\n",
       "    <tr>\n",
       "      <th>4</th>\n",
       "      <td>AZ RANCHERS Living On US-Mexico Border Destroy...</td>\n",
       "      <td>Twisted reasoning is all that comes from Pelos...</td>\n",
       "      <td>politics</td>\n",
       "      <td>Apr 25, 2017</td>\n",
       "      <td>0</td>\n",
       "    </tr>\n",
       "  </tbody>\n",
       "</table>\n",
       "</div>"
      ],
      "text/plain": [
       "                                               title  \\\n",
       "0   BREAKING: GOP Chairman Grassley Has Had Enoug...   \n",
       "1   Failed GOP Candidates Remembered In Hilarious...   \n",
       "2   Mike Pence’s New DC Neighbors Are HILARIOUSLY...   \n",
       "3  California AG pledges to defend birth control ...   \n",
       "4  AZ RANCHERS Living On US-Mexico Border Destroy...   \n",
       "\n",
       "                                                text       subject  \\\n",
       "0  Donald Trump s White House is in chaos, and th...          News   \n",
       "1  Now that Donald Trump is the presumptive GOP n...          News   \n",
       "2  Mike Pence is a huge homophobe. He supports ex...          News   \n",
       "3  SAN FRANCISCO (Reuters) - California Attorney ...  politicsNews   \n",
       "4  Twisted reasoning is all that comes from Pelos...      politics   \n",
       "\n",
       "               date  label  \n",
       "0     July 21, 2017      0  \n",
       "1       May 7, 2016      0  \n",
       "2  December 3, 2016      0  \n",
       "3  October 6, 2017       1  \n",
       "4      Apr 25, 2017      0  "
      ]
     },
     "execution_count": 9,
     "metadata": {},
     "output_type": "execute_result"
    }
   ],
   "source": [
    "df.head()"
   ]
  },
  {
   "cell_type": "code",
   "execution_count": 10,
   "id": "e11fd5c5",
   "metadata": {},
   "outputs": [
    {
     "name": "stdout",
     "output_type": "stream",
     "text": [
      "Dimensions of merged dataset: (44898, 5)\n"
     ]
    }
   ],
   "source": [
    "print(\"Dimensions of merged dataset:\", df.shape)"
   ]
  },
  {
   "cell_type": "markdown",
   "id": "78d5bc42",
   "metadata": {},
   "source": [
    "Data Preprocessing"
   ]
  },
  {
   "cell_type": "code",
   "execution_count": 11,
   "id": "a3303429",
   "metadata": {},
   "outputs": [
    {
     "name": "stdout",
     "output_type": "stream",
     "text": [
      "(44898, 4)\n",
      "subject    0\n",
      "date       0\n",
      "label      0\n",
      "content    0\n",
      "dtype: int64\n"
     ]
    }
   ],
   "source": [
    "# Combine title and text into a single column\n",
    "df['content'] = df['title'] + \" \" + df['text']\n",
    "\n",
    "# Drop the original title and text columns\n",
    "df = df.drop(['title', 'text'], axis=1)\n",
    "\n",
    "# Check the shape and null values\n",
    "print(df.shape)\n",
    "print(df.isnull().sum())"
   ]
  },
  {
   "cell_type": "code",
   "execution_count": 12,
   "id": "93dbbcd6",
   "metadata": {},
   "outputs": [
    {
     "name": "stderr",
     "output_type": "stream",
     "text": [
      "[nltk_data] Downloading package stopwords to\n",
      "[nltk_data]     C:\\Users\\Lucca\\AppData\\Roaming\\nltk_data...\n",
      "[nltk_data]   Package stopwords is already up-to-date!\n"
     ]
    },
    {
     "name": "stdout",
     "output_type": "stream",
     "text": [
      "0    breaking gop chairman grassley enough demands ...\n",
      "1    failed gop candidates remembered hilarious moc...\n",
      "2    mike pence’s new dc neighbors hilariously trol...\n",
      "3    california ag pledges defend birth control ins...\n",
      "4    az ranchers living usmexico border destroy nan...\n",
      "Name: content, dtype: object\n"
     ]
    }
   ],
   "source": [
    "# download NLTK resources\n",
    "nltk.download('stopwords')\n",
    "stop_words = set(stopwords.words('english'))\n",
    "\n",
    "def clean_text(text):\n",
    "    \"\"\"Function to clean text data using standard text preprocessing: \n",
    "    remove punctuation, text to lowercase and removing stopwords.\"\"\"\n",
    "\n",
    "    # Lowercase\n",
    "    text = text.lower()\n",
    "    # Remove punctuation\n",
    "    text = text.translate(str.maketrans('', '', string.punctuation))\n",
    "    # Remove stopwords\n",
    "    words = text.split()\n",
    "    words = [word for word in words if word not in stop_words]\n",
    "    return \" \".join(words)\n",
    "\n",
    "# Apply the cleaning function\n",
    "df['content'] = df['content'].apply(clean_text)\n",
    "\n",
    "# Preview cleaned content\n",
    "print(df['content'].head())"
   ]
  },
  {
   "cell_type": "markdown",
   "id": "4a0be7e7",
   "metadata": {},
   "source": [
    "# Feature Selection: \n",
    "\n",
    "Vectorisation using TF-IDF weighting of top 5000 words per article."
   ]
  },
  {
   "cell_type": "code",
   "execution_count": 13,
   "id": "63030ce9",
   "metadata": {},
   "outputs": [
    {
     "name": "stdout",
     "output_type": "stream",
     "text": [
      "(44898, 5000)\n"
     ]
    }
   ],
   "source": [
    "# TF-IDF weighting:\n",
    "\n",
    "# Initialize vectorizer\n",
    "tfidf = TfidfVectorizer(max_features=5000) # keep only the top 5,000 terms (words) ranked by their TF-IDF scores across the corpus.\n",
    "\n",
    "# Fit and transform the content\n",
    "X = tfidf.fit_transform(df['content']).toarray()\n",
    "\n",
    "# Show shape\n",
    "print(X.shape)"
   ]
  },
  {
   "cell_type": "code",
   "execution_count": 14,
   "id": "8c0566ea",
   "metadata": {},
   "outputs": [
    {
     "data": {
      "text/html": [
       "<div>\n",
       "<style scoped>\n",
       "    .dataframe tbody tr th:only-of-type {\n",
       "        vertical-align: middle;\n",
       "    }\n",
       "\n",
       "    .dataframe tbody tr th {\n",
       "        vertical-align: top;\n",
       "    }\n",
       "\n",
       "    .dataframe thead th {\n",
       "        text-align: right;\n",
       "    }\n",
       "</style>\n",
       "<table border=\"1\" class=\"dataframe\">\n",
       "  <thead>\n",
       "    <tr style=\"text-align: right;\">\n",
       "      <th></th>\n",
       "      <th>subject</th>\n",
       "      <th>date</th>\n",
       "      <th>label</th>\n",
       "      <th>content</th>\n",
       "    </tr>\n",
       "  </thead>\n",
       "  <tbody>\n",
       "    <tr>\n",
       "      <th>0</th>\n",
       "      <td>News</td>\n",
       "      <td>July 21, 2017</td>\n",
       "      <td>0</td>\n",
       "      <td>breaking gop chairman grassley enough demands ...</td>\n",
       "    </tr>\n",
       "    <tr>\n",
       "      <th>1</th>\n",
       "      <td>News</td>\n",
       "      <td>May 7, 2016</td>\n",
       "      <td>0</td>\n",
       "      <td>failed gop candidates remembered hilarious moc...</td>\n",
       "    </tr>\n",
       "    <tr>\n",
       "      <th>2</th>\n",
       "      <td>News</td>\n",
       "      <td>December 3, 2016</td>\n",
       "      <td>0</td>\n",
       "      <td>mike pence’s new dc neighbors hilariously trol...</td>\n",
       "    </tr>\n",
       "    <tr>\n",
       "      <th>3</th>\n",
       "      <td>politicsNews</td>\n",
       "      <td>October 6, 2017</td>\n",
       "      <td>1</td>\n",
       "      <td>california ag pledges defend birth control ins...</td>\n",
       "    </tr>\n",
       "    <tr>\n",
       "      <th>4</th>\n",
       "      <td>politics</td>\n",
       "      <td>Apr 25, 2017</td>\n",
       "      <td>0</td>\n",
       "      <td>az ranchers living usmexico border destroy nan...</td>\n",
       "    </tr>\n",
       "  </tbody>\n",
       "</table>\n",
       "</div>"
      ],
      "text/plain": [
       "        subject              date  label  \\\n",
       "0          News     July 21, 2017      0   \n",
       "1          News       May 7, 2016      0   \n",
       "2          News  December 3, 2016      0   \n",
       "3  politicsNews  October 6, 2017       1   \n",
       "4      politics      Apr 25, 2017      0   \n",
       "\n",
       "                                             content  \n",
       "0  breaking gop chairman grassley enough demands ...  \n",
       "1  failed gop candidates remembered hilarious moc...  \n",
       "2  mike pence’s new dc neighbors hilariously trol...  \n",
       "3  california ag pledges defend birth control ins...  \n",
       "4  az ranchers living usmexico border destroy nan...  "
      ]
     },
     "execution_count": 14,
     "metadata": {},
     "output_type": "execute_result"
    }
   ],
   "source": [
    "df.head()"
   ]
  },
  {
   "cell_type": "code",
   "execution_count": 15,
   "id": "9c91f7e7",
   "metadata": {},
   "outputs": [
    {
     "name": "stdout",
     "output_type": "stream",
     "text": [
      "[0 0 0 1 0 1 1 1 0 0]\n"
     ]
    }
   ],
   "source": [
    "# Encode the labels (REAL/FAKE)\n",
    "y = df['label']\n",
    "encoder = LabelEncoder()\n",
    "y = encoder.fit_transform(y)  # FAKE = 0, REAL = 1\n",
    "\n",
    "print(y[:10])  # Check encoded labels"
   ]
  },
  {
   "cell_type": "markdown",
   "id": "7d6bcf07",
   "metadata": {},
   "source": [
    "# Baseline Model: Logistic Regression\n"
   ]
  },
  {
   "cell_type": "code",
   "execution_count": 16,
   "id": "17d45c8f",
   "metadata": {},
   "outputs": [
    {
     "name": "stdout",
     "output_type": "stream",
     "text": [
      "Accuracy Score: 0.9888641425389755\n",
      "\n",
      "Classification Report:\n",
      "               precision    recall  f1-score   support\n",
      "\n",
      "           0       0.99      0.99      0.99      4669\n",
      "           1       0.99      0.99      0.99      4311\n",
      "\n",
      "    accuracy                           0.99      8980\n",
      "   macro avg       0.99      0.99      0.99      8980\n",
      "weighted avg       0.99      0.99      0.99      8980\n",
      "\n",
      "\n",
      "Confusion Matrix:\n",
      " [[4606   63]\n",
      " [  37 4274]]\n"
     ]
    },
    {
     "data": {
      "image/png": "[encoded data removed]",
      "text/plain": [
       "<Figure size 800x600 with 2 Axes>"
      ]
     },
     "metadata": {},
     "output_type": "display_data"
    }
   ],
   "source": [
    "# Model Training\n",
    "# 1. Split data\n",
    "X_train, X_test, y_train, y_test = train_test_split(X, y, test_size=0.2, random_state=42)\n",
    "\n",
    "# 2. Train Logistic Regression\n",
    "model = LogisticRegression()\n",
    "model.fit(X_train, y_train)\n",
    "\n",
    "# 3. Predict\n",
    "y_pred = model.predict(X_test)\n",
    "\n",
    "# Model Evaluation\n",
    "# 4. Evaluate\n",
    "print(\"Accuracy Score:\", accuracy_score(y_test, y_pred))\n",
    "print(\"\\nClassification Report:\\n\", classification_report(y_test, y_pred))\n",
    "print(\"\\nConfusion Matrix:\\n\", confusion_matrix(y_test, y_pred))\n",
    "\n",
    "# 5. Plot Confusion Matrix\n",
    "cm = confusion_matrix(y_test, y_pred)\n",
    "labels = model.classes_  # This will get the unique class labels in order\n",
    "\n",
    "plt.figure(figsize=(8, 6))\n",
    "sns.heatmap(cm, annot=True, fmt=\"d\", cmap=\"Blues\", \n",
    "            xticklabels=labels, yticklabels=labels)\n",
    "plt.xlabel(\"Predicted\")\n",
    "plt.ylabel(\"True\")\n",
    "plt.title(\"Confusion Matrix\")\n",
    "plt.tight_layout()\n",
    "plt.show()\n"
   ]
  },
  {
   "cell_type": "markdown",
   "id": "32264919",
   "metadata": {},
   "source": [
    "Model Performance by Domain\n"
   ]
  },
  {
   "cell_type": "code",
   "execution_count": 17,
   "id": "fe51105e",
   "metadata": {},
   "outputs": [
    {
     "name": "stdout",
     "output_type": "stream",
     "text": [
      "\n",
      "Unique subjects in TRUE dataset: ['politicsNews' 'worldnews']\n",
      "Unique subjects in FAKE dataset: ['News' 'politics' 'Government News' 'left-news' 'US_News' 'Middle-east']\n"
     ]
    }
   ],
   "source": [
    "# Check unique values in 'subject' column\n",
    "print(\"\\nUnique subjects in TRUE dataset:\", df_true['subject'].unique())\n",
    "print(\"Unique subjects in FAKE dataset:\", df_fake['subject'].unique())\n",
    "\n",
    "def map_subject_to_domain(subject):\n",
    "    \"\"\"Function to map subject to a domain category.\n",
    "    Note: the subject 'middle-east' is ambigupous and can refer to both politics and news, hence coded to 'other domain' category.,\n",
    "    \"\"\"\n",
    "\n",
    "    if subject in ['politicsNews', 'politics', 'Government News', 'left-news']:\n",
    "        return 'Politics'\n",
    "    elif subject in ['US_News', 'News', 'worldnews']:\n",
    "        return 'News'\n",
    "    else:\n",
    "        return 'Other'\n",
    "    \n",
    "df['domain'] = df['subject'].apply(map_subject_to_domain)"
   ]
  },
  {
   "cell_type": "code",
   "execution_count": 18,
   "id": "d5271751",
   "metadata": {},
   "outputs": [
    {
     "data": {
      "text/html": [
       "<div>\n",
       "<style scoped>\n",
       "    .dataframe tbody tr th:only-of-type {\n",
       "        vertical-align: middle;\n",
       "    }\n",
       "\n",
       "    .dataframe tbody tr th {\n",
       "        vertical-align: top;\n",
       "    }\n",
       "\n",
       "    .dataframe thead th {\n",
       "        text-align: right;\n",
       "    }\n",
       "</style>\n",
       "<table border=\"1\" class=\"dataframe\">\n",
       "  <thead>\n",
       "    <tr style=\"text-align: right;\">\n",
       "      <th></th>\n",
       "      <th>subject</th>\n",
       "      <th>date</th>\n",
       "      <th>label</th>\n",
       "      <th>content</th>\n",
       "      <th>domain</th>\n",
       "    </tr>\n",
       "  </thead>\n",
       "  <tbody>\n",
       "    <tr>\n",
       "      <th>0</th>\n",
       "      <td>News</td>\n",
       "      <td>July 21, 2017</td>\n",
       "      <td>0</td>\n",
       "      <td>breaking gop chairman grassley enough demands ...</td>\n",
       "      <td>News</td>\n",
       "    </tr>\n",
       "    <tr>\n",
       "      <th>1</th>\n",
       "      <td>News</td>\n",
       "      <td>May 7, 2016</td>\n",
       "      <td>0</td>\n",
       "      <td>failed gop candidates remembered hilarious moc...</td>\n",
       "      <td>News</td>\n",
       "    </tr>\n",
       "    <tr>\n",
       "      <th>2</th>\n",
       "      <td>News</td>\n",
       "      <td>December 3, 2016</td>\n",
       "      <td>0</td>\n",
       "      <td>mike pence’s new dc neighbors hilariously trol...</td>\n",
       "      <td>News</td>\n",
       "    </tr>\n",
       "    <tr>\n",
       "      <th>3</th>\n",
       "      <td>politicsNews</td>\n",
       "      <td>October 6, 2017</td>\n",
       "      <td>1</td>\n",
       "      <td>california ag pledges defend birth control ins...</td>\n",
       "      <td>Politics</td>\n",
       "    </tr>\n",
       "    <tr>\n",
       "      <th>4</th>\n",
       "      <td>politics</td>\n",
       "      <td>Apr 25, 2017</td>\n",
       "      <td>0</td>\n",
       "      <td>az ranchers living usmexico border destroy nan...</td>\n",
       "      <td>Politics</td>\n",
       "    </tr>\n",
       "  </tbody>\n",
       "</table>\n",
       "</div>"
      ],
      "text/plain": [
       "        subject              date  label  \\\n",
       "0          News     July 21, 2017      0   \n",
       "1          News       May 7, 2016      0   \n",
       "2          News  December 3, 2016      0   \n",
       "3  politicsNews  October 6, 2017       1   \n",
       "4      politics      Apr 25, 2017      0   \n",
       "\n",
       "                                             content    domain  \n",
       "0  breaking gop chairman grassley enough demands ...      News  \n",
       "1  failed gop candidates remembered hilarious moc...      News  \n",
       "2  mike pence’s new dc neighbors hilariously trol...      News  \n",
       "3  california ag pledges defend birth control ins...  Politics  \n",
       "4  az ranchers living usmexico border destroy nan...  Politics  "
      ]
     },
     "execution_count": 18,
     "metadata": {},
     "output_type": "execute_result"
    }
   ],
   "source": [
    "df.head()"
   ]
  },
  {
   "cell_type": "code",
   "execution_count": 19,
   "id": "ee1eab41",
   "metadata": {},
   "outputs": [],
   "source": [
    "# Attach domains back to test set\n",
    "df_train, df_test = train_test_split(df, test_size=0.2, random_state=42)\n",
    "\n",
    "# Add true labels and predictions\n",
    "df_test = df_test.copy()  # to avoid SettingWithCopyWarning\n",
    "df_test['y_true'] = y_test\n",
    "df_test['y_pred'] = model.predict(X_test)"
   ]
  },
  {
   "cell_type": "code",
   "execution_count": 20,
   "id": "8b415744",
   "metadata": {},
   "outputs": [
    {
     "name": "stdout",
     "output_type": "stream",
     "text": [
      "     domain  accuracy        f1  support\n",
      "0      News  0.995979  0.996010   3979.0\n",
      "1     Other  0.986301  0.000000    146.0\n",
      "2  Politics  0.983110  0.982312   4855.0\n"
     ]
    },
    {
     "name": "stderr",
     "output_type": "stream",
     "text": [
      "C:\\Users\\Lucca\\AppData\\Local\\Temp\\ipykernel_23492\\3506773264.py:3: DeprecationWarning: DataFrameGroupBy.apply operated on the grouping columns. This behavior is deprecated, and in a future version of pandas the grouping columns will be excluded from the operation. Either pass `include_groups=False` to exclude the groupings or explicitly select the grouping columns after groupby to silence this warning.\n",
      "  performance_by_domain = df_test.groupby('domain').apply(\n"
     ]
    }
   ],
   "source": [
    "from sklearn.metrics import accuracy_score, f1_score\n",
    "\n",
    "performance_by_domain = df_test.groupby('domain').apply(\n",
    "    lambda g: pd.Series({\n",
    "        'accuracy': accuracy_score(g['y_true'], g['y_pred']),\n",
    "        'f1': f1_score(g['y_true'], g['y_pred']),\n",
    "        'support': len(g)\n",
    "    })\n",
    ").reset_index()\n",
    "\n",
    "print(performance_by_domain)"
   ]
  },
  {
   "cell_type": "code",
   "execution_count": 21,
   "id": "79bf39e6",
   "metadata": {},
   "outputs": [
    {
     "data": {
      "image/png": "[encoded data removed]",
      "text/plain": [
       "<Figure size 800x600 with 2 Axes>"
      ]
     },
     "metadata": {},
     "output_type": "display_data"
    },
    {
     "data": {
      "image/png": "[encoded data removed]",
      "text/plain": [
       "<Figure size 800x600 with 2 Axes>"
      ]
     },
     "metadata": {},
     "output_type": "display_data"
    },
    {
     "data": {
      "image/png": "[encoded data removed]",
      "text/plain": [
       "<Figure size 800x600 with 2 Axes>"
      ]
     },
     "metadata": {},
     "output_type": "display_data"
    }
   ],
   "source": [
    "# Ensure df_test has predictions and true labels\n",
    "df_test = df_test.copy()\n",
    "df_test['y_pred'] = model.predict(X_test)\n",
    "\n",
    "# Get model class labels\n",
    "labels = model.classes_\n",
    "\n",
    "# Loop through each domain and plot confusion matrix\n",
    "for domain in df_test['domain'].unique():\n",
    "    subset = df_test[df_test['domain'] == domain]\n",
    "    \n",
    "    cm = confusion_matrix(subset['y_true'], subset['y_pred'], labels=labels)\n",
    "\n",
    "    plt.figure(figsize=(8, 6))\n",
    "    sns.heatmap(cm, annot=True, fmt=\"d\", cmap=\"Blues\", \n",
    "                xticklabels=labels, yticklabels=labels)\n",
    "    plt.xlabel(\"Predicted\")\n",
    "    plt.ylabel(\"True\")\n",
    "    plt.title(f\"Confusion Matrix - Domain: {domain}\")\n",
    "    plt.tight_layout()\n",
    "    plt.show()\n"
   ]
  },
  {
   "cell_type": "markdown",
   "id": "ef9d6604",
   "metadata": {},
   "source": [
    "Note: performance for the other domain is biased as it does not include any real news examples."
   ]
  },
  {
   "cell_type": "markdown",
   "id": "6bc756d1",
   "metadata": {},
   "source": [
    "# Visualising Feature Importance"
   ]
  },
  {
   "cell_type": "code",
   "execution_count": 22,
   "id": "1de46f88",
   "metadata": {},
   "outputs": [
    {
     "data": {
      "image/png": "[encoded data removed]",
      "text/plain": [
       "<Figure size 800x950 with 1 Axes>"
      ]
     },
     "metadata": {},
     "output_type": "display_data"
    }
   ],
   "source": [
    "# If you trained the model using a NumPy array, convert X_train and X_test back to DataFrame\n",
    "X_train_df = pd.DataFrame(X_train, columns=tfidf.get_feature_names_out())\n",
    "X_test_df = pd.DataFrame(X_test, columns=tfidf.get_feature_names_out())\n",
    "\n",
    "# Use TreeExplainer for tree-based models, or Explainer for general use\n",
    "explainer = shap.Explainer(model, X_train_df)\n",
    "shap_values = explainer(X_test_df)\n",
    "\n",
    "# Summary plot with proper feature names\n",
    "shap.summary_plot(shap_values, X_test_df, plot_type=\"bar\")"
   ]
  },
  {
   "cell_type": "code",
   "execution_count": 23,
   "id": "c7f41b1e",
   "metadata": {},
   "outputs": [
    {
     "data": {
      "image/png": "[encoded data removed]",
      "text/plain": [
       "<Figure size 800x950 with 2 Axes>"
      ]
     },
     "metadata": {},
     "output_type": "display_data"
    }
   ],
   "source": [
    "shap.summary_plot(shap_values, X_test_df)"
   ]
  },
  {
   "cell_type": "markdown",
   "id": "d02090db",
   "metadata": {},
   "source": [
    "In this SHAP plot:\n",
    "\n",
    "Negative SHAP values (left side) push the model toward predicting FAKE\n",
    "\n",
    "Positive SHAP values (right side) push the model toward predicting REAL\n",
    "\n",
    "The blue bar shows where the model tends to move the prediction when the word is not present.\n",
    "\n",
    "Red dots show much that word actually influenced the prediction when it was present.\n",
    "If the red dots are mostly on the right, then the presence of that word pushes the prediction toward real (label = 1).\n",
    "\n",
    "The SHAP summary plot illustrates the top 20 features influencing the logistic regression model's predictions of fake versus real news. Positive SHAP values indicate words that push predictions toward real news, while negative values push toward fake news. The model associates terms like “said”, “reuters”, and “via” with real news, reflecting journalistic conventions and credible sourcing. In contrast, terms such as “video”, “obama”, “hillary”, and “image” are strongly associated with fake news, suggesting the model detects patterns tied to sensationalism and political clickbait. The presence of weekday names appears to have a more neutral or mixed effect as would be expected. Overall, the model captures some meaningful linguistic and stylistic cues that differentiate real from fake articles."
   ]
  },
  {
   "cell_type": "markdown",
   "id": "a8c13cac",
   "metadata": {},
   "source": [
    "# Step 2 - Improvement \n",
    "\n",
    "This section will focus on improving the first model's predictions by focusing on the missclassified articles specifically and using more advanced techniques for text classification: Large Language Models (LLMs).\n",
    "\n",
    "Traditional models like logistic regression, when based on TF-IDF representations, treat words as independent features and fail to capture contextual meaning, syntax, and word order. To overcome this, I introduce a Large Language Model (LLM) that leverages deep contextual understanding and semantic nuance in text classification. \n",
    "\n",
    "I will use the LLM GPT-4o-mini which balances cost and performance quite well."
   ]
  },
  {
   "cell_type": "code",
   "execution_count": 24,
   "id": "53153056",
   "metadata": {},
   "outputs": [
    {
     "name": "stdout",
     "output_type": "stream",
     "text": [
      "Number of misclassified articles: 100\n"
     ]
    }
   ],
   "source": [
    "# Identify Incorrect Predictions\n",
    "\n",
    "# Add a boolean column for correctness\n",
    "df_test['correct'] = df_test['y_true'] == df_test['y_pred']\n",
    "\n",
    "# Filter misclassified examples\n",
    "df_misclassified = df_test[~df_test['correct']].copy()\n",
    "\n",
    "# Show a preview\n",
    "print(f\"Number of misclassified articles: {len(df_misclassified)}\")"
   ]
  },
  {
   "cell_type": "code",
   "execution_count": 25,
   "id": "21a08300",
   "metadata": {},
   "outputs": [
    {
     "data": {
      "text/html": [
       "<div>\n",
       "<style scoped>\n",
       "    .dataframe tbody tr th:only-of-type {\n",
       "        vertical-align: middle;\n",
       "    }\n",
       "\n",
       "    .dataframe tbody tr th {\n",
       "        vertical-align: top;\n",
       "    }\n",
       "\n",
       "    .dataframe thead th {\n",
       "        text-align: right;\n",
       "    }\n",
       "</style>\n",
       "<table border=\"1\" class=\"dataframe\">\n",
       "  <thead>\n",
       "    <tr style=\"text-align: right;\">\n",
       "      <th></th>\n",
       "      <th>subject</th>\n",
       "      <th>date</th>\n",
       "      <th>label</th>\n",
       "      <th>content</th>\n",
       "      <th>domain</th>\n",
       "      <th>y_true</th>\n",
       "      <th>y_pred</th>\n",
       "      <th>correct</th>\n",
       "    </tr>\n",
       "  </thead>\n",
       "  <tbody>\n",
       "    <tr>\n",
       "      <th>42953</th>\n",
       "      <td>politicsNews</td>\n",
       "      <td>September 16, 2016</td>\n",
       "      <td>1</td>\n",
       "      <td>londons muslim mayor backs clinton us presiden...</td>\n",
       "      <td>Politics</td>\n",
       "      <td>1</td>\n",
       "      <td>0</td>\n",
       "      <td>False</td>\n",
       "    </tr>\n",
       "    <tr>\n",
       "      <th>22935</th>\n",
       "      <td>left-news</td>\n",
       "      <td>Jun 26, 2016</td>\n",
       "      <td>0</td>\n",
       "      <td>iceland’s stunning election antiestablishment ...</td>\n",
       "      <td>Politics</td>\n",
       "      <td>0</td>\n",
       "      <td>1</td>\n",
       "      <td>False</td>\n",
       "    </tr>\n",
       "    <tr>\n",
       "      <th>16145</th>\n",
       "      <td>politics</td>\n",
       "      <td>Jul 11, 2015</td>\n",
       "      <td>0</td>\n",
       "      <td>chinese immigrant owes millions selling counte...</td>\n",
       "      <td>Politics</td>\n",
       "      <td>0</td>\n",
       "      <td>1</td>\n",
       "      <td>False</td>\n",
       "    </tr>\n",
       "    <tr>\n",
       "      <th>216</th>\n",
       "      <td>left-news</td>\n",
       "      <td>Mar 30, 2017</td>\n",
       "      <td>0</td>\n",
       "      <td>vice president pence breaks tie bill allowing ...</td>\n",
       "      <td>Politics</td>\n",
       "      <td>0</td>\n",
       "      <td>1</td>\n",
       "      <td>False</td>\n",
       "    </tr>\n",
       "    <tr>\n",
       "      <th>6757</th>\n",
       "      <td>Government News</td>\n",
       "      <td>Jul 25, 2017</td>\n",
       "      <td>0</td>\n",
       "      <td>massachusetts votes ignore fed law let illegal...</td>\n",
       "      <td>Politics</td>\n",
       "      <td>0</td>\n",
       "      <td>1</td>\n",
       "      <td>False</td>\n",
       "    </tr>\n",
       "  </tbody>\n",
       "</table>\n",
       "</div>"
      ],
      "text/plain": [
       "               subject                 date  label  \\\n",
       "42953     politicsNews  September 16, 2016       1   \n",
       "22935        left-news         Jun 26, 2016      0   \n",
       "16145         politics         Jul 11, 2015      0   \n",
       "216          left-news         Mar 30, 2017      0   \n",
       "6757   Government News         Jul 25, 2017      0   \n",
       "\n",
       "                                                 content    domain  y_true  \\\n",
       "42953  londons muslim mayor backs clinton us presiden...  Politics       1   \n",
       "22935  iceland’s stunning election antiestablishment ...  Politics       0   \n",
       "16145  chinese immigrant owes millions selling counte...  Politics       0   \n",
       "216    vice president pence breaks tie bill allowing ...  Politics       0   \n",
       "6757   massachusetts votes ignore fed law let illegal...  Politics       0   \n",
       "\n",
       "       y_pred  correct  \n",
       "42953       0    False  \n",
       "22935       1    False  \n",
       "16145       1    False  \n",
       "216         1    False  \n",
       "6757        1    False  "
      ]
     },
     "execution_count": 25,
     "metadata": {},
     "output_type": "execute_result"
    }
   ],
   "source": [
    "df_misclassified.head()"
   ]
  },
  {
   "cell_type": "markdown",
   "id": "cf6f0bde",
   "metadata": {},
   "source": [
    "# LLM query using data modelling and validation framework: Pydantic\n",
    "\n",
    "This framework allows for structured API calls to the LLM, ensuring greater reliability and consistency in the results."
   ]
  },
  {
   "cell_type": "code",
   "execution_count": 26,
   "id": "21d8b0a7",
   "metadata": {},
   "outputs": [],
   "source": [
    "import os\n",
    "import pandas as pd\n",
    "from enum import Enum\n",
    "from typing import List\n",
    "from pydantic import BaseModel, Field\n",
    "from openai import OpenAI\n",
    "import instructor\n",
    "from dotenv import load_dotenv\n",
    "from typing import Optional\n",
    "from sklearn.metrics import confusion_matrix, classification_report\n",
    "import seaborn as sns\n",
    "import matplotlib.pyplot as plt"
   ]
  },
  {
   "cell_type": "code",
   "execution_count": 28,
   "id": "2220453c",
   "metadata": {},
   "outputs": [
    {
     "name": "stdout",
     "output_type": "stream",
     "text": [
      "ChatCompletionMessage(content='Lines of code entwined,  \\nSilent mind of circuitry,  \\nDreams of logic soar.', refusal=None, role='assistant', annotations=[], audio=None, function_call=None, tool_calls=None)\n"
     ]
    }
   ],
   "source": [
    "# API Key Setup\n",
    "\n",
    "# For replication: insert API key here\n",
    "\n",
    "# Load environment variables from the .env file\n",
    "load_dotenv()\n",
    "\n",
    "# Get the API key from the environment\n",
    "api_key = os.getenv(\"OPENAI_API_KEY\")\n",
    "\n",
    "# Patch OpenAI client with instructor\n",
    "client = instructor.patch(OpenAI(api_key=api_key))\n",
    "\n",
    "completion = client.chat.completions.create(\n",
    "  model=\"gpt-4o-mini\",\n",
    "  store=True,\n",
    "  messages=[\n",
    "    {\"role\": \"user\", \"content\": \"write a haiku about ai\"}\n",
    "  ]\n",
    ")\n",
    "\n",
    "print(completion.choices[0].message)"
   ]
  },
  {
   "cell_type": "code",
   "execution_count": 44,
   "id": "2de33668",
   "metadata": {},
   "outputs": [],
   "source": [
    "class NewsDetect(str, Enum):\n",
    "    FAKE_NEWS = \"fake_news\"\n",
    "    REAL_NEWS = \"real_news\"\n",
    "    UNCLEAR = \"unclear\"\n",
    "\n",
    "\n",
    "class TextClassification(BaseModel):\n",
    "    news_class: NewsDetect\n",
    "    confidence: float = Field(ge=0, le=1, description=\"Confidence score for the classification\")\n",
    "  \n",
    "\n",
    "\n",
    "SYSTEM_PROMPT_TEXT = \"\"\"\n",
    "You are an expert in detecting fake and real news articles. Your task is to classify whether a given article is most likely:\n",
    "\n",
    "1. **fake_news** – Content that is likely false, misleading, conspiratorial, or intentionally deceptive.\n",
    "2. **real_news** – Credible, factual reporting from established or trustworthy sources.\n",
    "3. **unclear** – Articles where the classification is ambiguous due to lack of context, sarcasm, or insufficient information.\n",
    "\n",
    "Respond ONLY in valid JSON format like this:\n",
    "\n",
    "{\n",
    "  \"news_class\": \"fake_news\",\n",
    "  \"confidence\": 0.87\n",
    "}\n",
    "\n",
    "Where:\n",
    "- `news_class` is one of: `\"fake_news\"`, `\"real_news\"`, or `\"unclear\"`\n",
    "- `confidence` is a number between 0 and 1\n",
    "\n",
    "Do not explain your reasoning. Just return the JSON output only.\n",
    "\"\"\"\n",
    "\n",
    "\n",
    "# Classification function\n",
    "def classify_text(text: str) -> TextClassification:\n",
    "    response = client.chat.completions.create(\n",
    "        model=\"gpt-4o-mini\",\n",
    "        response_model=TextClassification,\n",
    "        temperature=0,\n",
    "        max_retries=2,\n",
    "        messages=[\n",
    "            {\n",
    "                \"role\": \"system\",\n",
    "                \"content\": SYSTEM_PROMPT_TEXT,\n",
    "            },\n",
    "            {\"role\": \"user\", \"content\": text}\n",
    "        ]\n",
    "    )\n",
    "    return response"
   ]
  },
  {
   "cell_type": "code",
   "execution_count": 47,
   "id": "e494998d",
   "metadata": {},
   "outputs": [
    {
     "name": "stderr",
     "output_type": "stream",
     "text": [
      "  0%|          | 0/100 [00:00<?, ?it/s]"
     ]
    },
    {
     "name": "stderr",
     "output_type": "stream",
     "text": [
      "100%|██████████| 100/100 [01:44<00:00,  1.04s/it]\n"
     ]
    }
   ],
   "source": [
    "from tqdm import tqdm\n",
    "tqdm.pandas()  # progress bar \n",
    "\n",
    "# Define helper to extract prediction and confidence\n",
    "def classify_row(text):\n",
    "    try:\n",
    "        result = classify_text(text)\n",
    "        return result.news_class.value, result.confidence\n",
    "    except Exception as e:\n",
    "        return \"error\", 0.0\n",
    "\n",
    "# Apply classification\n",
    "df_misclassified[['llm_prediction', 'llm_confidence']] = df_misclassified['content'].progress_apply(\n",
    "    lambda x: pd.Series(classify_row(x))\n",
    ")"
   ]
  },
  {
   "cell_type": "code",
   "execution_count": 48,
   "id": "e6031464",
   "metadata": {},
   "outputs": [
    {
     "data": {
      "text/html": [
       "<div>\n",
       "<style scoped>\n",
       "    .dataframe tbody tr th:only-of-type {\n",
       "        vertical-align: middle;\n",
       "    }\n",
       "\n",
       "    .dataframe tbody tr th {\n",
       "        vertical-align: top;\n",
       "    }\n",
       "\n",
       "    .dataframe thead th {\n",
       "        text-align: right;\n",
       "    }\n",
       "</style>\n",
       "<table border=\"1\" class=\"dataframe\">\n",
       "  <thead>\n",
       "    <tr style=\"text-align: right;\">\n",
       "      <th></th>\n",
       "      <th>subject</th>\n",
       "      <th>date</th>\n",
       "      <th>label</th>\n",
       "      <th>content</th>\n",
       "      <th>domain</th>\n",
       "      <th>y_true</th>\n",
       "      <th>y_pred</th>\n",
       "      <th>correct</th>\n",
       "      <th>llm_prediction</th>\n",
       "      <th>llm_confidence</th>\n",
       "    </tr>\n",
       "  </thead>\n",
       "  <tbody>\n",
       "    <tr>\n",
       "      <th>42953</th>\n",
       "      <td>politicsNews</td>\n",
       "      <td>September 16, 2016</td>\n",
       "      <td>1</td>\n",
       "      <td>londons muslim mayor backs clinton us presiden...</td>\n",
       "      <td>Politics</td>\n",
       "      <td>1</td>\n",
       "      <td>0</td>\n",
       "      <td>False</td>\n",
       "      <td>real_news</td>\n",
       "      <td>0.85</td>\n",
       "    </tr>\n",
       "    <tr>\n",
       "      <th>22935</th>\n",
       "      <td>left-news</td>\n",
       "      <td>Jun 26, 2016</td>\n",
       "      <td>0</td>\n",
       "      <td>iceland’s stunning election antiestablishment ...</td>\n",
       "      <td>Politics</td>\n",
       "      <td>0</td>\n",
       "      <td>1</td>\n",
       "      <td>False</td>\n",
       "      <td>real_news</td>\n",
       "      <td>0.85</td>\n",
       "    </tr>\n",
       "    <tr>\n",
       "      <th>16145</th>\n",
       "      <td>politics</td>\n",
       "      <td>Jul 11, 2015</td>\n",
       "      <td>0</td>\n",
       "      <td>chinese immigrant owes millions selling counte...</td>\n",
       "      <td>Politics</td>\n",
       "      <td>0</td>\n",
       "      <td>1</td>\n",
       "      <td>False</td>\n",
       "      <td>fake_news</td>\n",
       "      <td>0.85</td>\n",
       "    </tr>\n",
       "    <tr>\n",
       "      <th>216</th>\n",
       "      <td>left-news</td>\n",
       "      <td>Mar 30, 2017</td>\n",
       "      <td>0</td>\n",
       "      <td>vice president pence breaks tie bill allowing ...</td>\n",
       "      <td>Politics</td>\n",
       "      <td>0</td>\n",
       "      <td>1</td>\n",
       "      <td>False</td>\n",
       "      <td>real_news</td>\n",
       "      <td>0.85</td>\n",
       "    </tr>\n",
       "    <tr>\n",
       "      <th>6757</th>\n",
       "      <td>Government News</td>\n",
       "      <td>Jul 25, 2017</td>\n",
       "      <td>0</td>\n",
       "      <td>massachusetts votes ignore fed law let illegal...</td>\n",
       "      <td>Politics</td>\n",
       "      <td>0</td>\n",
       "      <td>1</td>\n",
       "      <td>False</td>\n",
       "      <td>fake_news</td>\n",
       "      <td>0.85</td>\n",
       "    </tr>\n",
       "  </tbody>\n",
       "</table>\n",
       "</div>"
      ],
      "text/plain": [
       "               subject                 date  label  \\\n",
       "42953     politicsNews  September 16, 2016       1   \n",
       "22935        left-news         Jun 26, 2016      0   \n",
       "16145         politics         Jul 11, 2015      0   \n",
       "216          left-news         Mar 30, 2017      0   \n",
       "6757   Government News         Jul 25, 2017      0   \n",
       "\n",
       "                                                 content    domain  y_true  \\\n",
       "42953  londons muslim mayor backs clinton us presiden...  Politics       1   \n",
       "22935  iceland’s stunning election antiestablishment ...  Politics       0   \n",
       "16145  chinese immigrant owes millions selling counte...  Politics       0   \n",
       "216    vice president pence breaks tie bill allowing ...  Politics       0   \n",
       "6757   massachusetts votes ignore fed law let illegal...  Politics       0   \n",
       "\n",
       "       y_pred  correct llm_prediction  llm_confidence  \n",
       "42953       0    False      real_news            0.85  \n",
       "22935       1    False      real_news            0.85  \n",
       "16145       1    False      fake_news            0.85  \n",
       "216         1    False      real_news            0.85  \n",
       "6757        1    False      fake_news            0.85  "
      ]
     },
     "execution_count": 48,
     "metadata": {},
     "output_type": "execute_result"
    }
   ],
   "source": [
    "df_misclassified.head()"
   ]
  },
  {
   "cell_type": "markdown",
   "id": "2420102d",
   "metadata": {},
   "source": [
    "Map LLM predictions to binary labels"
   ]
  },
  {
   "cell_type": "code",
   "execution_count": 49,
   "id": "a6d6546f",
   "metadata": {},
   "outputs": [],
   "source": [
    "# Map LLM predictions to 0 = fake, 1 = real\n",
    "label_map = {\n",
    "    \"fake_news\": 0,\n",
    "    \"real_news\": 1\n",
    "}\n",
    "\n",
    "df_eval = df_misclassified[df_misclassified['llm_prediction'].isin(label_map.keys())].copy()\n",
    "df_eval['llm_pred_binary'] = df_eval['llm_prediction'].map(label_map)"
   ]
  },
  {
   "cell_type": "code",
   "execution_count": 50,
   "id": "8a12e5c8",
   "metadata": {},
   "outputs": [
    {
     "name": "stdout",
     "output_type": "stream",
     "text": [
      "Classification Report:\n",
      "\n",
      "              precision    recall  f1-score   support\n",
      "\n",
      "        Fake       0.91      0.47      0.62        62\n",
      "        Real       0.51      0.92      0.65        37\n",
      "\n",
      "    accuracy                           0.64        99\n",
      "   macro avg       0.71      0.69      0.64        99\n",
      "weighted avg       0.76      0.64      0.63        99\n",
      "\n",
      "Accuracy Score: 0.6363636363636364\n",
      "Confusion Matrix:\n",
      " [[29 33]\n",
      " [ 3 34]]\n"
     ]
    }
   ],
   "source": [
    "from sklearn.metrics import classification_report, confusion_matrix, accuracy_score\n",
    "\n",
    "y_true = df_eval['label']\n",
    "y_pred = df_eval['llm_pred_binary']\n",
    "\n",
    "# Print classification report\n",
    "print(\"Classification Report:\\n\")\n",
    "print(classification_report(y_true, y_pred, target_names=[\"Fake\", \"Real\"]))\n",
    "\n",
    "# Print accuracy\n",
    "print(\"Accuracy Score:\", accuracy_score(y_true, y_pred))\n",
    "\n",
    "# Confusion matrix\n",
    "cm = confusion_matrix(y_true, y_pred)\n",
    "print(\"Confusion Matrix:\\n\", cm)"
   ]
  },
  {
   "cell_type": "code",
   "execution_count": 51,
   "id": "6774785e",
   "metadata": {},
   "outputs": [
    {
     "data": {
      "image/png": "[encoded data removed]",
      "text/plain": [
       "<Figure size 600x400 with 2 Axes>"
      ]
     },
     "metadata": {},
     "output_type": "display_data"
    }
   ],
   "source": [
    "import seaborn as sns\n",
    "import matplotlib.pyplot as plt\n",
    "\n",
    "plt.figure(figsize=(6, 4))\n",
    "sns.heatmap(cm, annot=True, fmt=\"d\", cmap=\"Blues\", xticklabels=[\"Fake\", \"Real\"], yticklabels=[\"Fake\", \"Real\"])\n",
    "plt.xlabel(\"Predicted Label\")\n",
    "plt.ylabel(\"True Label\")\n",
    "plt.title(\"Confusion Matrix – LLM Predictions\")\n",
    "plt.tight_layout()\n",
    "plt.show()"
   ]
  },
  {
   "cell_type": "markdown",
   "id": "4b9ad570",
   "metadata": {},
   "source": [
    "Performance by domain:"
   ]
  },
  {
   "cell_type": "code",
   "execution_count": 55,
   "id": "05c706c7",
   "metadata": {},
   "outputs": [
    {
     "name": "stdout",
     "output_type": "stream",
     "text": [
      "     domain  accuracy        f1  support\n",
      "0      News  0.875000  0.916667     16.0\n",
      "1     Other  1.000000  0.000000      2.0\n",
      "2  Politics  0.580247  0.575000     81.0\n"
     ]
    },
    {
     "name": "stderr",
     "output_type": "stream",
     "text": [
      "C:\\Users\\Lucca\\AppData\\Local\\Temp\\ipykernel_23492\\2358200007.py:16: DeprecationWarning: DataFrameGroupBy.apply operated on the grouping columns. This behavior is deprecated, and in a future version of pandas the grouping columns will be excluded from the operation. Either pass `include_groups=False` to exclude the groupings or explicitly select the grouping columns after groupby to silence this warning.\n",
      "  performance_by_domain_llm = df_eval.groupby('domain', group_keys=False).apply(\n"
     ]
    }
   ],
   "source": [
    "# Define the label mapping\n",
    "label_map = {\n",
    "    \"fake_news\": 0,\n",
    "    \"real_news\": 1\n",
    "}\n",
    "\n",
    "# Create binary column only for valid predictions\n",
    "df_misclassified = df_misclassified.copy()\n",
    "df_misclassified['llm_pred_binary'] = df_misclassified['llm_prediction'].map(label_map)\n",
    "\n",
    "from sklearn.metrics import accuracy_score, f1_score\n",
    "\n",
    "# Filter to rows with valid binary predictions\n",
    "df_eval = df_misclassified[df_misclassified['llm_pred_binary'].notnull()]\n",
    "\n",
    "performance_by_domain_llm = df_eval.groupby('domain', group_keys=False).apply(\n",
    "    lambda g: pd.Series({\n",
    "        'accuracy': accuracy_score(g['label'], g['llm_pred_binary']),\n",
    "        'f1': f1_score(g['label'], g['llm_pred_binary'], zero_division=0),\n",
    "        'support': len(g)\n",
    "    })\n",
    ").reset_index()\n",
    "\n",
    "print(performance_by_domain_llm)\n"
   ]
  },
  {
   "cell_type": "markdown",
   "id": "0491ea25",
   "metadata": {},
   "source": [
    "# Results Interpretation: LLM performance"
   ]
  },
  {
   "cell_type": "markdown",
   "id": "80fc2ca8",
   "metadata": {},
   "source": [
    "The results indicate that the LLM achieved an accuracy of 64% on these difficult cases, which the the logisitc regression missclassified — a notable improvement over the baseline model, which by definition had 0% accuracy on this subset.\n",
    "\n",
    "More importantly, the confusion matrix and classification report reveal a key strength of the LLM:\n",
    "\n",
    "It correctly classifies a large proportion of real news articles, with a recall of 0.92 for the real class, meaning it recovered nearly all real articles that the logistic regression model had previously mislabeled.\n",
    "\n",
    "It also shows strong precision for fake news (0.91), meaning when it predicts fake, it's usually correct — even though its recall for fake is lower (0.47), meaning it misses some fake cases.\n",
    "\n",
    "This indicates a more balanced understanding of the real/fake distinction, where the LLM is especially effective at recognizing real news among previously misclassified items.\n",
    "\n",
    "**By domain:**\n",
    "\n",
    "In the News domain, the LLM performs strongly, with high accuracy and F1-score, suggesting it can reliably detect real news cues and correct prior model errors in that context.\n",
    "\n",
    "In the Politics domain, which constitutes the bulk of examples, performance is lower — precision and recall are more balanced, but the domain remains challenging, likely due to nuanced language, satire, or politicized misinformation.\n",
    "\n",
    "In the Other category, the LLM achieves perfect accuracy but on a very small number of samples (n = 2), so this result should be interpreted cautiously.\n"
   ]
  },
  {
   "cell_type": "markdown",
   "id": "0a386dd9",
   "metadata": {},
   "source": [
    "# Extension: Assessing LLM classification performance on highly confident predictions"
   ]
  },
  {
   "cell_type": "code",
   "execution_count": 57,
   "id": "87881914",
   "metadata": {},
   "outputs": [
    {
     "data": {
      "text/plain": [
       "count    100.000000\n",
       "mean       0.861800\n",
       "std        0.049408\n",
       "min        0.500000\n",
       "25%        0.850000\n",
       "50%        0.850000\n",
       "75%        0.850000\n",
       "max        0.950000\n",
       "Name: llm_confidence, dtype: float64"
      ]
     },
     "execution_count": 57,
     "metadata": {},
     "output_type": "execute_result"
    }
   ],
   "source": [
    "df_misclassified['llm_confidence'].describe()"
   ]
  },
  {
   "cell_type": "code",
   "execution_count": 66,
   "id": "9c9bfef7",
   "metadata": {},
   "outputs": [
    {
     "name": "stdout",
     "output_type": "stream",
     "text": [
      "Remaining rows after filtering: 22\n"
     ]
    }
   ],
   "source": [
    "df_misclassified_conf = df_misclassified[df_misclassified['llm_confidence'] >= 0.90].copy()\n",
    "print(f\"Remaining rows after filtering: {len(df_misclassified_conf)}\")"
   ]
  },
  {
   "cell_type": "code",
   "execution_count": 64,
   "id": "c03acbb6",
   "metadata": {},
   "outputs": [
    {
     "name": "stdout",
     "output_type": "stream",
     "text": [
      "Classification Report:\n",
      "\n",
      "              precision    recall  f1-score   support\n",
      "\n",
      "        Fake       1.00      0.67      0.80         3\n",
      "        Real       0.95      1.00      0.97        19\n",
      "\n",
      "    accuracy                           0.95        22\n",
      "   macro avg       0.97      0.83      0.89        22\n",
      "weighted avg       0.96      0.95      0.95        22\n",
      "\n",
      "Accuracy Score: 0.9545454545454546\n",
      "Confusion Matrix:\n",
      " [[ 2  1]\n",
      " [ 0 19]]\n"
     ]
    },
    {
     "data": {
      "image/png": "[encoded data removed]",
      "text/plain": [
       "<Figure size 600x400 with 2 Axes>"
      ]
     },
     "metadata": {},
     "output_type": "display_data"
    }
   ],
   "source": [
    "df_eval = df_misclassified_conf[df_misclassified_conf['llm_prediction'].isin(label_map.keys())].copy()\n",
    "df_eval['llm_pred_binary'] = df_eval['llm_prediction'].map(label_map)\n",
    "\n",
    "y_true = df_eval['label']\n",
    "y_pred = df_eval['llm_pred_binary']\n",
    "\n",
    "# Print classification report\n",
    "print(\"Classification Report:\\n\")\n",
    "print(classification_report(y_true, y_pred, target_names=[\"Fake\", \"Real\"]))\n",
    "\n",
    "# Print accuracy\n",
    "print(\"Accuracy Score:\", accuracy_score(y_true, y_pred))\n",
    "\n",
    "# Confusion matrix\n",
    "cm = confusion_matrix(y_true, y_pred)\n",
    "print(\"Confusion Matrix:\\n\", cm)\n",
    "\n",
    "plt.figure(figsize=(6, 4))\n",
    "sns.heatmap(cm, annot=True, fmt=\"d\", cmap=\"Blues\", xticklabels=[\"Fake\", \"Real\"], yticklabels=[\"Fake\", \"Real\"])\n",
    "plt.xlabel(\"Predicted Label\")\n",
    "plt.ylabel(\"True Label\")\n",
    "plt.title(\"Confusion Matrix – LLM Predictions\")\n",
    "plt.tight_layout()\n",
    "plt.show()"
   ]
  },
  {
   "cell_type": "markdown",
   "id": "c41a7185",
   "metadata": {},
   "source": [
    "# Results Interpretation: High Confidence LLM predictions"
   ]
  },
  {
   "cell_type": "markdown",
   "id": "e973013e",
   "metadata": {},
   "source": [
    "When filtering the LLM's predictions to include only those with a confidence score above 0.90, the model demonstrates very strong performance on this subset of previously misclassified articles:\n",
    "\n",
    "Accuracy reaches 95%, indicating that the model is highly reliable when it is confident.\n",
    "\n",
    "Precision is perfect (1.00) for fake news and very high (0.95) for real news, showing that high-confidence predictions are rarely incorrect.\n",
    "\n",
    "Recall for real news is 1.00, meaning all real news articles were correctly identified.\n",
    "\n",
    "Despite the small sample size (n = 22), these results suggest that the LLM’s confidence score is a meaningful indicator of prediction reliability. In practical terms, the LLM could be used as a selective classifier — automatically labeling only those articles it is highly confident about, while deferring uncertain cases to human review or additional models."
   ]
  },
  {
   "cell_type": "markdown",
   "id": "ca5632de",
   "metadata": {},
   "source": [
    "# Discussion and Conclusion\n",
    "\n",
    "\n",
    "The baseline logistic regression model achieved near-perfect performance, with an accuracy of 98.9% and F1-scores of 0.99 for both fake and real news classes. The model relied on a TF-IDF representation of the text, capturing frequency-based word importance. Visualising the SHAP values provided further insight into its decision-making process: terms like “said”, “reuters”, and “via” — indicative of journalistic standards — pushed predictions toward real news, while words like “video”, “hillary”, and “obama” were associated with fake news, highlighting the model’s sensitivity to emotionally charged or clickbait-style content. These results demonstrate that even simple linear models can perform exceptionally well on linearly separable tasks, especially when trained on well-labeled, balanced datasets.\n",
    "\n",
    "However, model performance on the overall test set may obscure critical weaknesses — especially regarding borderline or ambiguous examples. To address this, I focused on the subset of test examples that the logistic regression model misclassified, applying a Large Language Model (LLM) to determine whether it could recover those errors using more nuanced semantic understanding.\n",
    "\n",
    "The LLM achieved an accuracy of 64% on these misclassified articles — an impressive recovery considering this subset represents the most challenging cases. It showed strong recall for real news (0.92) and high precision for fake news (0.91), suggesting that the LLM complements the baseline model by correcting many of its errors, particularly for real news detection.\n",
    "\n",
    "When disaggregating performance by domain, the LLM was most effective in the News category, with strong accuracy and F1-scores. In the Politics domain, performance was more variable, likely due to complex rhetoric and satire.\n",
    "\n",
    "Filtering LLM predictions to include only those with confidence scores above 90% resulted in even more impressive outcomes. On this high-confidence subset, the LLM achieved 95% accuracy, with perfect precision for fake news and 100% recall for real news. This suggests that confidence scores could serve as a practical filter for model deployment — allowing automatic classification of high-confidence cases while deferring uncertain predictions for human or ensemble review.\n",
    "\n",
    "In conclusion, while the logistic regression model is a strong and efficient baseline, the LLM offers valuable improvements, particularly in its ability to recover misclassified examples and provide reliable predictions when confident. A hybrid approach — using logistic regression for general classification and LLMs for ambiguous or low-confidence cases — could maximize both efficiency and accuracy in real-world fake news detection systems."
   ]
  }
 ],
 "metadata": {
  "kernelspec": {
   "display_name": "Python 3",
   "language": "python",
   "name": "python3"
  },
  "language_info": {
   "codemirror_mode": {
    "name": "ipython",
    "version": 3
   },
   "file_extension": ".py",
   "mimetype": "text/x-python",
   "name": "python",
   "nbconvert_exporter": "python",
   "pygments_lexer": "ipython3",
   "version": "3.12.1"
  }
 },
 "nbformat": 4,
 "nbformat_minor": 5
}
